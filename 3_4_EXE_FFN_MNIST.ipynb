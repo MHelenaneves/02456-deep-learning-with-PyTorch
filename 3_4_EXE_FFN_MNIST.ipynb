{
  "nbformat": 4,
  "nbformat_minor": 0,
  "metadata": {
    "kernelspec": {
      "display_name": "Python 3",
      "language": "python",
      "name": "python3"
    },
    "language_info": {
      "codemirror_mode": {
        "name": "ipython",
        "version": 3
      },
      "file_extension": ".py",
      "mimetype": "text/x-python",
      "name": "python",
      "nbconvert_exporter": "python",
      "pygments_lexer": "ipython3",
      "version": "3.8.8"
    },
    "colab": {
      "name": "3_4_EXE_FFN_MNIST.ipynb",
      "provenance": [],
      "include_colab_link": true
    }
  },
  "cells": [
    {
      "cell_type": "markdown",
      "metadata": {
        "id": "view-in-github",
        "colab_type": "text"
      },
      "source": [
        "<a href=\"https://colab.research.google.com/github/MHelenaneves/02456-deep-learning-with-PyTorch/blob/master/3_4_EXE_FFN_MNIST.ipynb\" target=\"_parent\"><img src=\"https://colab.research.google.com/assets/colab-badge.svg\" alt=\"Open In Colab\"/></a>"
      ]
    },
    {
      "cell_type": "markdown",
      "metadata": {
        "id": "7fKqyOwVVLfv"
      },
      "source": [
        "# Credits\n",
        "> This code is a slight modification to a translation (TensorFlow --> PyTorch) of a previous version of the [02456](http://kurser.dtu.dk/course/02456) course material. \n",
        "> [Original repo link (TensorFlow)](https://github.com/DeepLearningDTU/02456-deep-learning).\n",
        "> [Translated repo link (PyTorch)](https://github.com/munkai/pytorch-tutorial/tree/master/2_intermediate)."
      ]
    },
    {
      "cell_type": "code",
      "metadata": {
        "id": "gVR3-4cjVLfx"
      },
      "source": [
        "import torch\n",
        "import torch.nn as nn\n",
        "import torch.nn.functional as F\n",
        "import torch.optim as optim\n",
        "import torch.nn.init as init\n",
        "\n",
        "%matplotlib inline\n",
        "import matplotlib\n",
        "import numpy as np\n",
        "import matplotlib.pyplot as plt\n",
        "\n",
        "from torch.nn.parameter import Parameter\n",
        "from torchvision.datasets import MNIST"
      ],
      "execution_count": null,
      "outputs": []
    },
    {
      "cell_type": "markdown",
      "metadata": {
        "id": "6mvmb_3rVLfy"
      },
      "source": [
        "# MNIST dataset\n",
        "MNIST is a dataset that is often used for benchmarking. The MNIST dataset consists of 70,000 images of handwritten digits from 0-9. The dataset is split into a 50,000 images training set, 10,000 images validation set and 10,000 images test set. The images are 28x28 pixels, where each pixel represents a normalised value between 0-255 (0=black and 255=white).\n",
        "\n",
        "![MNIST.Exampel](../static_files/mnist.png)\n",
        "\n",
        "\n",
        "## Primer\n",
        "We use a feedforward neural network to classify the 28x28 mnist images. `num_features` is therefore $28 * 28=784$, i.e. we represent each image as a vector. The ordering of the pixels in the vector does not matter, so we could permutate all images using the same permutation and still get the same performance. (You are of course encouraged to try this using ``numpy.random.permutation`` to get a random permutation. This task is therefore called the _permutation invariant_ MNIST. Obviously this throws away a lot of structure in the data. In the next module we'll fix this with the convolutional neural network wich encodes prior knowledgde about data that has either spatial or temporal structure.  "
      ]
    },
    {
      "cell_type": "markdown",
      "metadata": {
        "collapsed": true,
        "id": "JhjsURMdVLfz"
      },
      "source": [
        "## MNIST\n",
        "First let's load the MNIST dataset and plot a few examples:"
      ]
    },
    {
      "cell_type": "code",
      "metadata": {
        "id": "FjO8zz3zVLfz"
      },
      "source": [
        "mnist_trainset = MNIST(\"./temp/\", train=True, download=True)\n",
        "mnist_testset = MNIST(\"./temp/\", train=False, download=True)"
      ],
      "execution_count": null,
      "outputs": []
    },
    {
      "cell_type": "code",
      "metadata": {
        "id": "y_EKrUQNVLfz",
        "outputId": "87ef36ae-dd31-4f64-c135-b9ee58f22394"
      },
      "source": [
        "# To speed up training we'll only work on a subset of the data\n",
        "x_train = mnist_trainset.data[:1000].view(-1, 784).float()\n",
        "targets_train = mnist_trainset.targets[:1000]\n",
        "\n",
        "x_valid = mnist_trainset.data[1000:1500].view(-1, 784).float()\n",
        "targets_valid = mnist_trainset.targets[1000:1500]\n",
        "\n",
        "x_test = mnist_testset.data[:500].view(-1, 784).float()\n",
        "targets_test = mnist_testset.targets[:500]\n",
        "\n",
        "print(\"Information on dataset\")\n",
        "print(\"x_train\", x_train.shape)\n",
        "print(\"targets_train\", targets_train.shape)\n",
        "print(\"x_valid\", x_valid.shape)\n",
        "print(\"targets_valid\", targets_valid.shape)\n",
        "print(\"x_test\", x_test.shape)\n",
        "print(\"targets_test\", targets_test.shape)"
      ],
      "execution_count": null,
      "outputs": [
        {
          "name": "stdout",
          "output_type": "stream",
          "text": [
            "Information on dataset\n",
            "x_train torch.Size([1000, 784])\n",
            "targets_train torch.Size([1000])\n",
            "x_valid torch.Size([500, 784])\n",
            "targets_valid torch.Size([500])\n",
            "x_test torch.Size([500, 784])\n",
            "targets_test torch.Size([500])\n"
          ]
        }
      ]
    },
    {
      "cell_type": "code",
      "metadata": {
        "scrolled": false,
        "id": "xmjhnNEMVLf0",
        "outputId": "a8b8721c-5717-4ee1-e48c-ab828c18864d"
      },
      "source": [
        "# plot a few MNIST examples\n",
        "idx, dim, classes = 0, 28, 10\n",
        "# create empty canvas\n",
        "canvas = np.zeros((dim*classes, classes*dim))\n",
        "print(canvas)\n",
        "\n",
        "# fill with tensors\n",
        "for i in range(classes):\n",
        "    for j in range(classes):\n",
        "        canvas[i*dim:(i+1)*dim, j*dim:(j+1)*dim] = x_train[idx].reshape((dim, dim))\n",
        "        idx += 1\n",
        "print(canvas)\n",
        "\n",
        "# visualize matrix of tensors as gray scale image\n",
        "plt.figure(figsize=(4, 4))\n",
        "plt.axis('off')\n",
        "plt.imshow(canvas, cmap='gray')\n",
        "plt.title('MNIST handwritten digits')\n",
        "plt.show()"
      ],
      "execution_count": null,
      "outputs": [
        {
          "name": "stdout",
          "output_type": "stream",
          "text": [
            "[[0. 0. 0. ... 0. 0. 0.]\n",
            " [0. 0. 0. ... 0. 0. 0.]\n",
            " [0. 0. 0. ... 0. 0. 0.]\n",
            " ...\n",
            " [0. 0. 0. ... 0. 0. 0.]\n",
            " [0. 0. 0. ... 0. 0. 0.]\n",
            " [0. 0. 0. ... 0. 0. 0.]]\n",
            "[[0. 0. 0. ... 0. 0. 0.]\n",
            " [0. 0. 0. ... 0. 0. 0.]\n",
            " [0. 0. 0. ... 0. 0. 0.]\n",
            " ...\n",
            " [0. 0. 0. ... 0. 0. 0.]\n",
            " [0. 0. 0. ... 0. 0. 0.]\n",
            " [0. 0. 0. ... 0. 0. 0.]]\n"
          ]
        },
        {
          "data": {
            "image/png": "[encoded data removed]",
            "text/plain": [
              "<Figure size 288x288 with 1 Axes>"
            ]
          },
          "metadata": {
            "needs_background": "light"
          },
          "output_type": "display_data"
        }
      ]
    },
    {
      "cell_type": "markdown",
      "metadata": {
        "id": "WjoFDgreVLf0"
      },
      "source": [
        "## Model\n",
        "\n",
        "One of the large challenges in deep learning is the amount of hyperparameters that needs to be selected, and the lack of a good principled way of selecting them.\n",
        "Hyperparameters can be found by experience (guessing) or some search procedure (often quite slow).\n",
        "Random search is easy to implement and performs decent: http://www.jmlr.org/papers/volume13/bergstra12a/bergstra12a.pdf . \n",
        "More advanced search procedures include [Spearmint](https://github.com/JasperSnoek/spearmint) and many others.\n",
        "\n",
        "**In practice a lot of trial and error is almost always involved.** This can be frustrating and time consuming, but the best thing to do is to think as a scientist, and go about it in a ordered manner --> monitor as much as you can, take notes, and be deliberate!\n",
        "\n",
        "Below are some guidelines that you can use as a starting point to some of the most important hyperparameters. \n",
        "(*regularization* is also very important, but will be covered later.)\n",
        "\n",
        "\n",
        "### Ballpark estimates of hyperparameters\n",
        "__Number of hidden units and network structure:__\n",
        "You'll have to experiment. One rarely goes below 512 units for feedforward networks (unless your are training on CPU...).\n",
        "There's some research into stochastic depth networks: https://arxiv.org/pdf/1603.09382v2.pdf, but in general this is trial and error.\n",
        "\n",
        "__Parameter initialization:__\n",
        "Parameter initialization is extremely important.\n",
        "PyTorch has a lot of different initializers, check the [PyTorch API](http://pytorch.org/docs/master/nn.html#torch-nn-init). Often used initializer are\n",
        "1. Kaiming He\n",
        "2. Xavier Glorot\n",
        "3. Uniform or Normal with small scale (0.1 - 0.01)\n",
        "4. Orthogonal (this usually works very well for RNNs)\n",
        "\n",
        "Bias is nearly always initialized to zero using the [torch.nn.init.constant(tensor, val)](http://pytorch.org/docs/master/nn.html#torch.nn.init.constant)\n",
        "\n",
        "__Mini-batch size:__\n",
        "Usually people use 16-256. Bigger is not allways better. With smaller mini-batch size you get more updates and your model might converge faster. Also small batch sizes use less memory, which means you can train a model with more parameters.\n",
        "\n",
        "__Nonlinearity:__ [The most commonly used nonliearities are](http://pytorch.org/docs/master/nn.html#non-linear-activations)\n",
        "1. ReLU\n",
        "2. Leaky ReLU\n",
        "3. ELU\n",
        "3. Sigmoid (rarely, if ever, used in hidden layers anymore, squashes the output to the interval [0, 1] - appropriate if the targets are binary.\n",
        "4. Tanh is similar to the sigmoid, but squashes to [-1, 1]. Rarely used any more.\n",
        "4. Softmax normalizes the output to 1, usrful if you have a multi-class classification problem.\n",
        "\n",
        "See the plot below.\n",
        "\n",
        "__Optimizer and learning rate:__\n",
        "1. SGD + Momentum: learning rate 0.01 - 0.1 \n",
        "2. ADAM: learning rate 3e-4 - 1e-5\n",
        "3. RMSPROP: somewhere between SGD and ADAM\n"
      ]
    },
    {
      "cell_type": "markdown",
      "metadata": {
        "id": "qwTNwc2IVLf1"
      },
      "source": [
        "# Illustrate different output units\n",
        "x = np.linspace(-6, 6, 100)\n",
        "units = {\n",
        "    \"ReLU\": lambda x: np.maximum(0, x),\n",
        "    \"Leaky ReLU\": lambda x: np.maximum(0, x) + 0.1 * np.minimum(0, x),\n",
        "    \"Elu\": lambda x: (x > 0) * x + (1 - (x > 0)) * (np.exp(x) - 1),\n",
        "    \"Sigmoid\": lambda x: (1 + np.exp(-x))**(-1),\n",
        "    \"tanh\": lambda x: (np.exp(x) - np.exp(-x)) / (np.exp(x) + np.exp(-x))\n",
        "}\n",
        "\n",
        "plt.figure(figsize=(5, 5))\n",
        "[plt.plot(x, unit(x), label=unit_name, lw=2) for unit_name, unit in units.items()]\n",
        "plt.legend(loc=2, fontsize=16)\n",
        "plt.title('Non-linearities', fontsize=20)\n",
        "plt.ylim([-2, 5])\n",
        "plt.xlim([-6, 6])\n",
        "\n",
        "# assert that all class probablities sum to one\n",
        "softmax = lambda x: np.exp(x) / np.sum(np.exp(x))\n",
        "print(\"softmax should sum to one (approxiamtely):\", np.sum(softmax(x)))"
      ]
    },
    {
      "cell_type": "code",
      "metadata": {
        "id": "v4zCrbnMVLf1"
      },
      "source": [
        "#Hyperparameters\n",
        "num_classes = 10                # number of output units y\n",
        "num_l1 = 512                    # number of units in layer 1\n",
        "num_features = x_train.shape[1] # =784 num_features is the number of input units x  \n",
        "\n",
        "# define network\n",
        "class Net(nn.Module):           # we create the class Net as nn.Module: Base class for all \n",
        "                                # neural network modules.\n",
        "\n",
        "    def __init__(self, num_features, num_hidden, num_output): # the self variable represents the\n",
        "                                                              # instance of the network itself\n",
        "        super(Net, self).__init__()  \n",
        "        # input layer\n",
        "        #self.W_1 = Parameter(init.xavier_normal_(torch.Tensor(num_hidden, num_features)))\n",
        "        self.W_1 = Parameter(init.kaiming_normal_(torch.Tensor(num_hidden, num_features)))\n",
        "        self.b_1 = Parameter(init.constant_(torch.Tensor(num_hidden), 0))\n",
        "        # hidden layer\n",
        "        #self.W_2 = Parameter(init.xavier_normal_(torch.Tensor(num_output, num_hidden)))\n",
        "        self.W_2 = Parameter(init.kaiming_normal_(torch.Tensor(num_output, num_hidden)))\n",
        "        self.b_2 = Parameter(init.constant_(torch.Tensor(num_output), 0))\n",
        "        # define activation function in constructor\n",
        "        self.activation = torch.nn.ELU()\n",
        "\n",
        "    def forward(self, x):\n",
        "        x = F.linear(x, self.W_1, self.b_1) # F.linear: Applies a linear transformation to\n",
        "                                            # the incoming data: y=xA^T+b.\n",
        "        x = self.activation(x)\n",
        "        x = F.linear(x, self.W_2, self.b_2)\n",
        "        return x\n",
        "\n",
        "\n",
        "net = Net(num_features, num_l1, num_classes)"
      ],
      "execution_count": null,
      "outputs": []
    },
    {
      "cell_type": "code",
      "metadata": {
        "id": "nP-XqcNqVLf2"
      },
      "source": [
        "optimizer = optim.SGD(net.parameters(), lr=0.01) # optim.SGD Implements stochastic gradient\n",
        "                                                 # descent, lr:learning rate.\n",
        "criterion = nn.CrossEntropyLoss()"
      ],
      "execution_count": null,
      "outputs": []
    },
    {
      "cell_type": "code",
      "metadata": {
        "id": "lem3o5AVVLf2",
        "outputId": "0ab8d463-6bd5-46cb-854f-2b55af6554a3"
      },
      "source": [
        "# Test the forward pass with dummy data\n",
        "x = np.random.normal(0, 1, (45, dim*dim)).astype('float32')\n",
        "\n",
        "print(net(torch.from_numpy(x)).size())"
      ],
      "execution_count": null,
      "outputs": [
        {
          "name": "stdout",
          "output_type": "stream",
          "text": [
            "torch.Size([45, 10])\n"
          ]
        }
      ]
    },
    {
      "cell_type": "markdown",
      "metadata": {
        "id": "Cs4voohZVLf2"
      },
      "source": [
        "# Build the training loop\n",
        "\n",
        "We train the network by calculating the gradient w.r.t the cost function and update the parameters in direction of the negative gradient. \n",
        "\n",
        "\n",
        "When training neural network you always use mini batches. Instead of calculating the average gradient using the entire dataset you approximate the gradient using a mini-batch of typically 16 to 256 samples. The paramters are updated after each mini batch. Networks converge much faster using mini batches because the parameters are updated more often.\n",
        "\n",
        "We build a loop that iterates over the training data. Remember that the parameters are updated each time ``optimizer.step()`` is called."
      ]
    },
    {
      "cell_type": "code",
      "metadata": {
        "id": "ux6sZqdmVLf2",
        "outputId": "ee69c79c-9c09-42d1-fc8f-6987d7a5671c"
      },
      "source": [
        "# we could have done this ourselves,\n",
        "# but we should be aware of sklearn and its tools\n",
        "from sklearn.metrics import accuracy_score\n",
        "\n",
        "# normalize the inputs\n",
        "x_train.div_(255)\n",
        "x_valid.div_(255)\n",
        "x_test.div_(255)\n",
        "\n",
        "# setting hyperparameters and gettings epoch sizes\n",
        "batch_size = 100 #we are sending 100 instances\n",
        "num_epochs = 200\n",
        "num_samples_train = x_train.shape[0]\n",
        "num_batches_train = num_samples_train // batch_size\n",
        "num_samples_valid = x_valid.shape[0]\n",
        "num_batches_valid = num_samples_valid // batch_size\n",
        "\n",
        "# setting up lists for handling loss/accuracy\n",
        "train_acc, train_loss = [], []\n",
        "valid_acc, valid_loss = [], []\n",
        "test_acc, test_loss = [], []\n",
        "cur_loss = 0\n",
        "losses = []\n",
        "\n",
        "get_slice = lambda i, size: range(i * size, (i + 1) * size)\n",
        "\n",
        "for epoch in range(num_epochs):\n",
        "    # Forward -> Backprob -> Update params\n",
        "    ## Train\n",
        "    cur_loss = 0\n",
        "    net.train()\n",
        "    for i in range(num_batches_train): #WE ARE ONLY SENDING A BATCH\n",
        "        optimizer.zero_grad()\n",
        "        slce = get_slice(i, batch_size)\n",
        "        output = net(x_train[slce])\n",
        "        \n",
        "        # compute gradients given loss\n",
        "        target_batch = targets_train[slce]\n",
        "        batch_loss = criterion(output, target_batch)\n",
        "        batch_loss.backward()\n",
        "        optimizer.step()\n",
        "        \n",
        "        cur_loss += batch_loss   \n",
        "    losses.append(cur_loss / batch_size)\n",
        "\n",
        "    net.eval()\n",
        "    ### Evaluate training\n",
        "    train_preds, train_targs = [], []\n",
        "    for i in range(num_batches_train):\n",
        "        slce = get_slice(i, batch_size)\n",
        "        output = net(x_train[slce])\n",
        "        \n",
        "        preds = torch.max(output, 1)[1]\n",
        "        \n",
        "        train_targs += list(targets_train[slce].numpy())\n",
        "        train_preds += list(preds.data.numpy())\n",
        "    \n",
        "    ### Evaluate validation\n",
        "    val_preds, val_targs = [], []\n",
        "    for i in range(num_batches_valid):\n",
        "        slce = get_slice(i, batch_size)\n",
        "        \n",
        "        output = net(x_valid[slce])\n",
        "        preds = torch.max(output, 1)[1]\n",
        "        val_targs += list(targets_valid[slce].numpy())\n",
        "        val_preds += list(preds.data.numpy())\n",
        "        \n",
        "\n",
        "    train_acc_cur = accuracy_score(train_targs, train_preds)\n",
        "    valid_acc_cur = accuracy_score(val_targs, val_preds)\n",
        "    \n",
        "    train_acc.append(train_acc_cur)\n",
        "    valid_acc.append(valid_acc_cur)\n",
        "    \n",
        "    if epoch % 10 == 0:\n",
        "        print(\"Epoch %2i : Train Loss %f , Train acc %f, Valid acc %f\" % (\n",
        "                epoch+1, losses[-1], train_acc_cur, valid_acc_cur))\n",
        "\n",
        "epoch = np.arange(len(train_acc))\n",
        "plt.figure()\n",
        "plt.plot(epoch, train_acc, 'r', epoch, valid_acc, 'b')\n",
        "plt.legend(['Train Accucary','Validation Accuracy'])\n",
        "plt.xlabel('Updates'), plt.ylabel('Acc')"
      ],
      "execution_count": null,
      "outputs": [
        {
          "name": "stdout",
          "output_type": "stream",
          "text": [
            "Epoch  1 : Train Loss 0.237872 , Train acc 0.232000, Valid acc 0.198000\n",
            "Epoch 11 : Train Loss 0.104248 , Train acc 0.788000, Valid acc 0.744000\n",
            "Epoch 21 : Train Loss 0.072515 , Train acc 0.846000, Valid acc 0.798000\n",
            "Epoch 31 : Train Loss 0.058778 , Train acc 0.865000, Valid acc 0.810000\n",
            "Epoch 41 : Train Loss 0.050793 , Train acc 0.883000, Valid acc 0.820000\n",
            "Epoch 51 : Train Loss 0.045394 , Train acc 0.894000, Valid acc 0.826000\n",
            "Epoch 61 : Train Loss 0.041402 , Train acc 0.904000, Valid acc 0.830000\n",
            "Epoch 71 : Train Loss 0.038269 , Train acc 0.912000, Valid acc 0.832000\n",
            "Epoch 81 : Train Loss 0.035706 , Train acc 0.921000, Valid acc 0.840000\n",
            "Epoch 91 : Train Loss 0.033542 , Train acc 0.925000, Valid acc 0.842000\n",
            "Epoch 101 : Train Loss 0.031673 , Train acc 0.926000, Valid acc 0.846000\n",
            "Epoch 111 : Train Loss 0.030029 , Train acc 0.933000, Valid acc 0.850000\n",
            "Epoch 121 : Train Loss 0.028561 , Train acc 0.938000, Valid acc 0.858000\n",
            "Epoch 131 : Train Loss 0.027235 , Train acc 0.941000, Valid acc 0.856000\n",
            "Epoch 141 : Train Loss 0.026026 , Train acc 0.944000, Valid acc 0.864000\n",
            "Epoch 151 : Train Loss 0.024916 , Train acc 0.949000, Valid acc 0.864000\n",
            "Epoch 161 : Train Loss 0.023889 , Train acc 0.950000, Valid acc 0.864000\n",
            "Epoch 171 : Train Loss 0.022934 , Train acc 0.950000, Valid acc 0.864000\n",
            "Epoch 181 : Train Loss 0.022042 , Train acc 0.953000, Valid acc 0.866000\n",
            "Epoch 191 : Train Loss 0.021206 , Train acc 0.956000, Valid acc 0.864000\n"
          ]
        },
        {
          "data": {
            "text/plain": [
              "(Text(0.5, 0, 'Updates'), Text(0, 0.5, 'Acc'))"
            ]
          },
          "execution_count": 89,
          "metadata": {},
          "output_type": "execute_result"
        },
        {
          "data": {
            "image/png": "[encoded data removed]",
            "text/plain": [
              "<Figure size 432x288 with 1 Axes>"
            ]
          },
          "metadata": {
            "needs_background": "light"
          },
          "output_type": "display_data"
        }
      ]
    },
    {
      "cell_type": "markdown",
      "metadata": {
        "collapsed": true,
        "id": "rZwkCV4-VLf3"
      },
      "source": [
        "# Assignments\n",
        "\n",
        "Try and add these modifications (might require some Googleing -- an important skill in deep learning):\n",
        "- Kaiming He initialization instead of Xavier Glorot\n",
        "- add an extra layer\n",
        "- use the relu activation function\n",
        "- add momentum to the optimizer\n",
        "- use the ADAM optimizer instead of stochastic gradient descent\n",
        "\n",
        "\n",
        "    \n",
        "### Advanced - Regularization\n",
        "\n",
        "Regularization is VERY important in practice and is used practically every time.\n",
        "Many important results are completely dependent on clever use of regularization, and it is something you need to become familiar with if you want to work with deep learning.\n",
        "\n",
        "- add L1 or L2 weight regularization (aka. weight decay) \n",
        "- add dropout to the network (**note** the `net.train()` and `net.eval()` are already in the code)\n",
        "- add batchnorm\n",
        "\n",
        "<font color=green>\n",
        "\n",
        "Notes on regularization (taken from https://www.analyticsvidhya.com/blog/2018/04/fundamentals-deep-learning-regularization-techniques/)\n",
        "    \n",
        "In machine learning, regularization penalizes the coefficients. In deep learning, it actually penalizes the weight matrices of the nodes.\\\n",
        "    \n",
        "L2 \\& L1 regularization\\\n",
        "L1 and L2 are the most common types of regularization. These update the general cost function by adding another term known as the regularization term.\\\n",
        "    Cost function = Loss (say, binary cross entropy) + Regularization term\n",
        "\n",
        "Dropout\\\n",
        "    At every iteration, Dropout randomly selects some nodes and removes them along with all of their incoming and outgoing connections.\\\n",
        "    This probability of choosing how many nodes should be dropped is the hyperparameter of the dropout function. Dropout can be applied to both hidden layers as well as input layers.\\\n",
        "    \n",
        "<font color=black>\n",
        "\n",
        "__Pointers on regularization hyperparameter:__\n",
        "1. L2 and [L1 regularization](http://pytorch.org/docs/master/nn.html#torch.nn.L1Loss) (weight decay of optimization functions) \n",
        "  - Normal ranges: 1e-4  -  1e-8\n",
        "1. [Dropout](http://pytorch.org/docs/master/nn.html?highlight=dropout#torch.nn.Dropout). Dropout rate 0.1-0.5\n",
        "  - Remember to pick the correct version according to the input dimensionality\n",
        "  - **NOTE** call `net.train()` before training to activate random dropout, and call `net.eval()` to deactivate dropout while validating or running inference with model.\n",
        "1. [Batchnorm](http://pytorch.org/docs/master/nn.html#torch.nn.BatchNorm1d): Batchnorm also acts as a regularizer - Often very useful (faster and better convergence)\n",
        "  - Remember to pick the correct version according to the input dimensionality\n",
        "  - **NOTE** call `net.train()` before training to activate, and call `net.eval()` to have a non-stochastic variant while validating or running inference with model.\n",
        "    "
      ]
    },
    {
      "cell_type": "code",
      "metadata": {
        "id": "D9qS6uJ0VLf3"
      },
      "source": [
        "#Hyperparameters\n",
        "num_classes = 10                # number of output units y\n",
        "num_l1 = 512                    # number of units in layer 1\n",
        "num_l2 = 512                    # number of units in layer 1\n",
        "num_features = x_train.shape[1] # =784 num_features is the number of input units x  \n",
        "#print(num_features)\n",
        "\n",
        "# define network\n",
        "class Net(nn.Module):           # we create the class Net as nn.Module: Base class for all \n",
        "                                # neural network modules.\n",
        "\n",
        "    def __init__(self, num_features, num_hidden1, num_hidden2, num_output): # the self variable represents the\n",
        "                                                              # instance of the network itself\n",
        "        super(Net, self).__init__()  \n",
        "        # input layer\n",
        "        self.W_1 = Parameter(init.kaiming_normal_(torch.Tensor(num_hidden1, num_features)))\n",
        "        self.b_1 = Parameter(init.constant_(torch.Tensor(num_hidden1), 0))\n",
        "        \n",
        "        # hidden layer 1\n",
        "        self.W_2 = Parameter(init.kaiming_normal_(torch.Tensor(num_hidden2, num_hidden1)))\n",
        "        self.b_2 = Parameter(init.constant_(torch.Tensor(num_hidden2), 0))\n",
        "        # hidden layer 2\n",
        "        self.W_3 = Parameter(init.kaiming_normal_(torch.Tensor(num_output, num_hidden2)))\n",
        "        self.b_3 = Parameter(init.constant_(torch.Tensor(num_output), 0))\n",
        "        # define activation function in constructor\n",
        "        self.activation = torch.nn.ReLU()\n",
        "        # define batch norm layers\n",
        "        self.batchnorm_1 = nn.BatchNorm1d(num_hidden1)\n",
        "        self.batchnorm_2 = nn.BatchNorm1d(num_hidden2)\n",
        "\n",
        "    def forward(self, x):\n",
        "        #x = nn.BatchNorm1d(num_features)(x)\n",
        "        x = F.linear(x, self.W_1, self.b_1) # F.linear: Applies a linear transformation to\n",
        "        #test = nn.BatchNorm1d(num_hidden1)                                   # the incoming data: y=xA^T+b.\n",
        "        x = self.batchnorm_1(x)\n",
        "        x = self.activation(x)\n",
        "        x = nn.Dropout()(x)  # do we need to use nn.Dropout2d because x is\n",
        "        x = F.linear(x, self.W_2, self.b_2)\n",
        "        #x = nn.BatchNorm1d(num_l2)(x)\n",
        "        x = self.activation(x)\n",
        "        x = nn.Dropout()(x)\n",
        "        x = F.linear(x, self.W_3, self.b_3)\n",
        "        return x\n",
        "    \n",
        "    def compute_l1_loss(self, w):\n",
        "        return torch.abs(w).sum()\n",
        "    \n",
        "    def compute_l2_loss(self, w):\n",
        "        return torch.linalg.norm(w, ord=2)\n",
        "\n",
        "net = Net(num_features, num_l1, num_l2, num_classes)"
      ],
      "execution_count": null,
      "outputs": []
    },
    {
      "cell_type": "code",
      "metadata": {
        "id": "RDtzzzIHVLf4"
      },
      "source": [
        "#optimizer = optim.SGD(net.parameters(), lr=0.01, momentum=0.9) # optim.SGD Implements stochastic gradient\n",
        "                                                 # descent, lr:learning rate.\n",
        "optimizer = optim.Adam(net.parameters(), lr=0.01)\n",
        "criterion = nn.CrossEntropyLoss()\n",
        "#criterion = nn.L1Loss() #L1 criterion\n",
        "#criterion = nn.SmoothL1Loss #L2 criterionp\n"
      ],
      "execution_count": null,
      "outputs": []
    },
    {
      "cell_type": "code",
      "metadata": {
        "id": "RA2T0PtVVLf4",
        "outputId": "8ec40316-70f0-4a02-9e8d-db4b6320a0eb"
      },
      "source": [
        "# we could have done this ourselves,\n",
        "# but we should be aware of sklearn and its tools\n",
        "from sklearn.metrics import accuracy_score\n",
        "\n",
        "# normalize the inputs\n",
        "x_train.div_(255)\n",
        "x_valid.div_(255)\n",
        "x_test.div_(255)\n",
        "\n",
        "# setting hyperparameters and gettings epoch sizes\n",
        "batch_size = 100\n",
        "num_epochs = 200\n",
        "num_samples_train = x_train.shape[0]\n",
        "num_batches_train = num_samples_train // batch_size\n",
        "num_samples_valid = x_valid.shape[0]\n",
        "num_batches_valid = num_samples_valid // batch_size\n",
        "\n",
        "# setting up lists for handling loss/accuracy\n",
        "train_acc, train_loss = [], []\n",
        "valid_acc, valid_loss = [], []\n",
        "test_acc, test_loss = [], []\n",
        "cur_loss = 0\n",
        "losses = []\n",
        "\n",
        "get_slice = lambda i, size: range(i * size, (i + 1) * size)\n",
        "\n",
        "for epoch in range(num_epochs):\n",
        "    # Forward -> Backprob -> Update params\n",
        "    ## Train\n",
        "    cur_loss = 0\n",
        "    net.train()\n",
        "    for i in range(num_batches_train):\n",
        "        optimizer.zero_grad() # for every mini batch we need to set the gradients to zero  before starting backpropagation bc pytorch accumulates the gradients on subsequent backword passes.\n",
        "        slce = get_slice(i, batch_size)\n",
        "        output = net(x_train[slce]) \n",
        "        \n",
        "        \n",
        "        # compute gradients given loss\n",
        "        target_batch = targets_train[slce]\n",
        "        batch_loss = criterion(output, target_batch)\n",
        "        \n",
        "        # Compute L1 loss component\n",
        "        l1_weight = 1e-8\n",
        "        l1_parameters = []\n",
        "        for parameter in net.parameters():\n",
        "            l1_parameters.append(parameter.view(-1))\n",
        "        l1 = l1_weight * net.compute_l2_loss(torch.cat(l1_parameters))\n",
        "      \n",
        "      # Add L1 loss component\n",
        "        batch_loss += l1\n",
        "        \n",
        "        batch_loss.backward()\n",
        "        optimizer.step()\n",
        "        \n",
        "        cur_loss += batch_loss   \n",
        "    losses.append(cur_loss / batch_size)\n",
        "\n",
        "    net.eval()\n",
        "    \n",
        "    ### Evaluate training\n",
        "    train_preds, train_targs = [], []\n",
        "    for i in range(num_batches_train):\n",
        "        slce = get_slice(i, batch_size)\n",
        "        output = net(x_train[slce])\n",
        "        \n",
        "        preds = torch.max(output, 1)[1]\n",
        "        \n",
        "        train_targs += list(targets_train[slce].numpy())\n",
        "        train_preds += list(preds.data.numpy())\n",
        "    \n",
        "    ### Evaluate validation\n",
        "    val_preds, val_targs = [], []\n",
        "    for i in range(num_batches_valid):\n",
        "        slce = get_slice(i, batch_size)\n",
        "        \n",
        "        output = net(x_valid[slce])\n",
        "        preds = torch.max(output, 1)[1]\n",
        "        val_targs += list(targets_valid[slce].numpy())\n",
        "        val_preds += list(preds.data.numpy())\n",
        "        \n",
        "\n",
        "    train_acc_cur = accuracy_score(train_targs, train_preds)\n",
        "    valid_acc_cur = accuracy_score(val_targs, val_preds)\n",
        "    \n",
        "    train_acc.append(train_acc_cur)\n",
        "    valid_acc.append(valid_acc_cur)\n",
        "    \n",
        "    if epoch % 10 == 0:\n",
        "        print(\"Epoch %2i : Train Loss %f , Train acc %f, Valid acc %f\" % (\n",
        "                epoch+1, losses[-1], train_acc_cur, valid_acc_cur))\n",
        "\n",
        "epoch = np.arange(len(train_acc))\n",
        "plt.figure()\n",
        "plt.plot(epoch, train_acc, 'r', epoch, valid_acc, 'b')\n",
        "plt.legend(['Train Accucary','Validation Accuracy'])\n",
        "plt.xlabel('Updates'), plt.ylabel('Acc')"
      ],
      "execution_count": null,
      "outputs": [
        {
          "name": "stdout",
          "output_type": "stream",
          "text": [
            "Epoch  1 : Train Loss 0.176481 , Train acc 0.704000, Valid acc 0.618000\n",
            "Epoch 11 : Train Loss 0.008525 , Train acc 0.979000, Valid acc 0.832000\n",
            "Epoch 21 : Train Loss 0.014979 , Train acc 0.962000, Valid acc 0.822000\n",
            "Epoch 31 : Train Loss 0.008763 , Train acc 0.982000, Valid acc 0.838000\n",
            "Epoch 41 : Train Loss 0.003952 , Train acc 0.986000, Valid acc 0.844000\n",
            "Epoch 51 : Train Loss 0.011716 , Train acc 0.970000, Valid acc 0.806000\n",
            "Epoch 61 : Train Loss 0.003638 , Train acc 0.992000, Valid acc 0.834000\n",
            "Epoch 71 : Train Loss 0.003004 , Train acc 0.984000, Valid acc 0.852000\n",
            "Epoch 81 : Train Loss 0.002910 , Train acc 0.993000, Valid acc 0.822000\n",
            "Epoch 91 : Train Loss 0.003030 , Train acc 0.985000, Valid acc 0.854000\n",
            "Epoch 101 : Train Loss 0.005064 , Train acc 0.990000, Valid acc 0.828000\n",
            "Epoch 111 : Train Loss 0.010079 , Train acc 0.981000, Valid acc 0.806000\n",
            "Epoch 121 : Train Loss 0.005892 , Train acc 0.986000, Valid acc 0.838000\n",
            "Epoch 131 : Train Loss 0.003096 , Train acc 0.994000, Valid acc 0.850000\n",
            "Epoch 141 : Train Loss 0.004854 , Train acc 0.984000, Valid acc 0.836000\n",
            "Epoch 151 : Train Loss 0.003577 , Train acc 0.985000, Valid acc 0.850000\n",
            "Epoch 161 : Train Loss 0.008736 , Train acc 0.988000, Valid acc 0.846000\n",
            "Epoch 171 : Train Loss 0.007035 , Train acc 0.984000, Valid acc 0.834000\n",
            "Epoch 181 : Train Loss 0.006895 , Train acc 0.995000, Valid acc 0.842000\n",
            "Epoch 191 : Train Loss 0.003929 , Train acc 0.990000, Valid acc 0.834000\n"
          ]
        },
        {
          "data": {
            "text/plain": [
              "(Text(0.5, 0, 'Updates'), Text(0, 0.5, 'Acc'))"
            ]
          },
          "execution_count": 183,
          "metadata": {},
          "output_type": "execute_result"
        },
        {
          "data": {
            "image/png": "[encoded data removed]",
            "text/plain": [
              "<Figure size 432x288 with 1 Axes>"
            ]
          },
          "metadata": {
            "needs_background": "light"
          },
          "output_type": "display_data"
        }
      ]
    },
    {
      "cell_type": "markdown",
      "metadata": {
        "id": "itAQN67nVLf5"
      },
      "source": [
        "Optimizers: Gradient descent, Adam and others that we haven't seen. The optimizers tells us how to minimize the cost function (=loss function).\n",
        "\n",
        "Loss functions: Cross entropy, L1Loss, L2Loss. We use the loss function depending on our data.\n",
        "\n",
        "Parameters for regularizaion: number which defines how much the loss should be penalized\n",
        "\n",
        "It is another thing L1Loss and L1loss regulirization.\n",
        "\n",
        "Through the optimizer Adam, we define the L2 regulirazation parameter (weight decay)\n",
        "\n",
        "Dropout is an indirect way to regularize the network, using as regulirizing parameter the p in nn.Dropout. Dropout doesnt need any regularization parameter implemented because it is a change in the network architecture. We implemented Dropout in the initialization process in the forward function in both hidden layers after the activation. \\\n",
        "\n",
        "Comments on the results of L1 implementation: Overfitting is observed in the train set and test set. Even thought the test set accuracy doesn't reach a very high accuracy number it reaches the highest number very early in the process and that means that it stops learning at the point it reaches the highest accuracy, meaning no weights or biases adjastments are happening any more. \n",
        "\n",
        "One way to solve the overfitting is to gain more data or implement regularization.\n",
        "\n",
        "It is very common that Batch norm/(and Dropout I think?) is used along with other regularization methods.\n",
        "\n",
        "When we apply dropout along with L1, the behaviour in the accuracy over the epochs changes compared to when we had only the L1. We see that there are some up and downs which make sense because in every run different units are being deleted. \n",
        "\n",
        "\n",
        "\n",
        "\n",
        "\n",
        "\n"
      ]
    },
    {
      "cell_type": "markdown",
      "metadata": {
        "id": "bshjuYHqVLf5"
      },
      "source": [
        "Answer to one of the exercises from Michael Nielsen's book \\\n",
        "Chapter 2, \"How the Backpropagation Algorithm Works\" \\\n",
        "$\\textbf{Exercise}$: Backpropagation with linear neurons: Suppose we replace the usual non-linear σ function with σ(z)=z throughout the network. Rewrite the backpropagation algorithm for this case.\n",
        " \n",
        "$\\textbf{Answer:}$\n",
        " \n",
        "**1.**   Input x: Set the corresponding activation $a^{1}$ for the input layer.\\\n",
        "**2.**   Feedforward: For each $l=2,3,…,L$ compute $z_{l}=w^{l}a^{l-1}+b^{l}$ and $a^{l}=z^{l}$\\\n",
        "**3.**   Output the Error $δ^{L}$: Compute the vector $δ^{L}$ = $∇_{a}C$.\\\n",
        "**4.**   Backpropagate the Error: For each $l=L−1,L−2,…,2$ compute  $δ^{l}=(w^{l}+1)^{T}δ^{l+1}$\\\n",
        "**5.**   Output: The gradient of the cost function is given by $\\frac{∂C}{∂w^{l}_{jk}}=a^{l−1}_{k}δ^{l}_{j}$ and  $\\frac{∂C}{∂b^{l}_{j}}=δ^{l}_{j}$"
      ]
    },
    {
      "cell_type": "markdown",
      "metadata": {
        "id": "IDXVo3fzVLf5"
      },
      "source": [
        "You are done for now. [Good job.](https://media1.tenor.com/images/0fd559b07f2174f9b8b7dbde7c5a67ca/tenor.gif)"
      ]
    }
  ]
}